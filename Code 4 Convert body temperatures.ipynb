{
 "cells": [
  {
   "cell_type": "code",
   "execution_count": 16,
   "id": "2942a329",
   "metadata": {},
   "outputs": [
    {
     "name": "stdout",
     "output_type": "stream",
     "text": [
      "Enter your choice: c\n",
      "Enter the temperature: 20\n",
      "20.0°C is equal to 68.0°F.\n"
     ]
    }
   ],
   "source": [
    "#Celsius to Fahrenheit\n",
    "def Celsius_to_Fahrenheit(celsius):\n",
    "    return (celsius * 9/5) + 32\n",
    "\n",
    "#Fahrenheit to Celsius\n",
    "def Fahrenheit_to_Celsius(fahrenheit):\n",
    "    return (fahrenheit - 32) * 5/9\n",
    "\n",
    "choice = input(\"Enter your choice: \").strip().lower()\n",
    "\n",
    "#user input and choice\n",
    "temperature = float(input(\"Enter the temperature: \"))\n",
    "    \n",
    "# Perform Conversion and display results\n",
    "if choice.lower() == 'c':\n",
    "    converted_temperature = Celsius_to_Fahrenheit(temperature)\n",
    "    print(f\"{temperature}°C is equal to {converted_temperature}°F.\")\n",
    "else:\n",
    "    converted_temperature = Fahrenheit_to_Celsius(temperature)\n",
    "    print(f\"{temperature}°F is equal to {converted_temperature}°C.\")"
   ]
  },
  {
   "cell_type": "code",
   "execution_count": null,
   "id": "a872843e",
   "metadata": {},
   "outputs": [],
   "source": []
  }
 ],
 "metadata": {
  "kernelspec": {
   "display_name": "Python 3 (ipykernel)",
   "language": "python",
   "name": "python3"
  },
  "language_info": {
   "codemirror_mode": {
    "name": "ipython",
    "version": 3
   },
   "file_extension": ".py",
   "mimetype": "text/x-python",
   "name": "python",
   "nbconvert_exporter": "python",
   "pygments_lexer": "ipython3",
   "version": "3.11.4"
  }
 },
 "nbformat": 4,
 "nbformat_minor": 5
}
